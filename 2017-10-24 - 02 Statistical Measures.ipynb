{
 "cells": [
  {
   "cell_type": "markdown",
   "metadata": {
    "deletable": true,
    "editable": true
   },
   "source": [
    "# Mean, Median, Mode, and introducing NumPy"
   ]
  },
  {
   "cell_type": "markdown",
   "metadata": {
    "deletable": true,
    "editable": true
   },
   "source": [
    "## Mean vs. Median\n",
    "\n",
    "Let's create some fake income data, centered around 27,000 with a normal distribution and standard deviation of 15,000, with 10,000 data points. Then, compute the mean (average) - it should be close to 27,000. Here is just a little wrqp-up on these concepts in a graphical form:\n",
    "\n",
    "![Mean, Mode and Median](img/mean.png \"Mean, mode and Median\")"
   ]
  },
  {
   "cell_type": "code",
   "execution_count": 2,
   "metadata": {
    "collapsed": false,
    "deletable": true,
    "editable": true
   },
   "outputs": [
    {
     "name": "stdout",
     "output_type": "stream",
     "text": [
      "27198.524197\n"
     ]
    }
   ],
   "source": [
    "import numpy as np\n",
    "import matplotlib.pyplot as plt\n",
    "\n",
    "# create some random income values\n",
    "incomes = np.random.normal(27000, 15000, 10000)\n",
    "\n",
    "# calculate mean\n",
    "print(np.mean(incomes))"
   ]
  },
  {
   "cell_type": "markdown",
   "metadata": {
    "deletable": true,
    "editable": true
   },
   "source": [
    "We can segment the income data into 50 buckets, and plot it as a histogram:"
   ]
  },
  {
   "cell_type": "code",
   "execution_count": 10,
   "metadata": {
    "collapsed": false,
    "deletable": true,
    "editable": true
   },
   "outputs": [
    {
     "data": {
      "image/png": "[encoded data removed]",
      "text/plain": [
       "<matplotlib.figure.Figure at 0x2a24518ffd0>"
      ]
     },
     "metadata": {},
     "output_type": "display_data"
    }
   ],
   "source": [
    "# let us plot the income data\n",
    "plt.hist(incomes, 50)\n",
    "plt.show()\n",
    "plt.close()"
   ]
  },
  {
   "cell_type": "markdown",
   "metadata": {
    "deletable": true,
    "editable": true
   },
   "source": [
    "Now compute the median - since we have a nice, even distribution it too should be close to 27,000:"
   ]
  },
  {
   "cell_type": "code",
   "execution_count": 14,
   "metadata": {
    "collapsed": false,
    "deletable": true,
    "editable": true
   },
   "outputs": [
    {
     "name": "stdout",
     "output_type": "stream",
     "text": [
      "27337.9612633\n"
     ]
    }
   ],
   "source": [
    "# and now let's look at the median\n",
    "print(np.median(incomes))"
   ]
  },
  {
   "cell_type": "markdown",
   "metadata": {
    "deletable": true,
    "editable": true
   },
   "source": [
    "Now we'll add Donald Trump into the mix. Darn income inequality! The median won't change much, but the mean does:"
   ]
  },
  {
   "cell_type": "code",
   "execution_count": 15,
   "metadata": {
    "collapsed": false,
    "deletable": true,
    "editable": true
   },
   "outputs": [
    {
     "name": "stdout",
     "output_type": "stream",
     "text": [
      "27343.5190529\n"
     ]
    }
   ],
   "source": [
    "incomes = np.append(incomes, [1000000000])\n",
    "print(np.median(incomes))"
   ]
  },
  {
   "cell_type": "code",
   "execution_count": 24,
   "metadata": {
    "collapsed": false,
    "deletable": true,
    "editable": true
   },
   "outputs": [
    {
     "name": "stdout",
     "output_type": "stream",
     "text": [
      "26995.3257931\n"
     ]
    }
   ],
   "source": [
    "print(np.mean(incomes))"
   ]
  },
  {
   "cell_type": "markdown",
   "metadata": {
    "deletable": true,
    "editable": true
   },
   "source": [
    "## Mode"
   ]
  },
  {
   "cell_type": "markdown",
   "metadata": {
    "deletable": true,
    "editable": true
   },
   "source": [
    "Next, let's generate some fake income data for 500 people:"
   ]
  },
  {
   "cell_type": "code",
   "execution_count": 10,
   "metadata": {
    "collapsed": false,
    "deletable": true,
    "editable": true
   },
   "outputs": [
    {
     "name": "stdout",
     "output_type": "stream",
     "text": [
      "[89 32 79 67 62 20 80 30 67 65 56 64 61 29 29 64 43 77 27 63 23 22 31 42 58\n",
      " 28 43 82 18 65 49 32 30 55 36 88 70 39 71 18 71 43 28 89 38 64 49 18 28 41\n",
      " 54 24 35 50 69 81 80 85 56 40 86 73 72 36 86 29 72 89 46 40 31 38 88 65 69\n",
      " 85 23 49 68 25 51 53 26 76 28 21 46 52 87 79 21 76 87 69 54 51 67 40 28 21\n",
      " 58 64 30 26 30 74 81 64 25 74 78 47 33 80 44 52 80 24 33 50 69 50 56 37 43\n",
      " 81 54 48 26 21 27 73 30 70 84 89 41 64 37 35 67 83 58 38 53 20 65 59 42 34\n",
      " 50 78 58 36 87 41 27 82 30 23 88 78 23 65 30 80 19 56 39 87 40 52 45 32 87\n",
      " 65 40 50 76 82 87 34 32 71 80 58 64 33 88 34 81 21 44 37 22 78 40 85 32 30\n",
      " 37 41 20 82 20 55 24 35 30 63 56 34 89 31 31 51 23 44 41 67 18 78 34 74 72\n",
      " 56 39 71 18 26 36 65 54 27 71 80 72 36 77 68 60 70 86 52 43 45 69 64 51 63\n",
      " 45 88 64 67 50 65 87 58 78 25 82 23 35 56 46 25 68 33 47 72 46 86 54 86 44\n",
      " 19 67 28 72 61 86 59 49 37 57 72 62 21 32 18 19 80 22 30 79 29 74 31 66 22\n",
      " 39 54 46 40 72 88 63 23 53 79 56 56 36 30 77 49 43 70 77 73 84 50 25 60 56\n",
      " 21 67 67 34 65 45 29 70 63 46 70 47 45 35 30 22 43 50 29 20 31 74 67 28 67\n",
      " 73 85 68 65 59 61 31 27 88 80 54 32 82 52 50 55 53 25 37 75 62 36 69 68 29\n",
      " 48 30 42 68 24 42 77 43 61 62 31 70 45 85 65 49 65 52 53 73 39 84 35 27 35\n",
      " 44 23 25 47 54 84 29 65 71 59 21 89 40 22 45 37 78 57 45 89 33 77 61 72 85\n",
      " 32 62 72 48 89 18 36 68 31 70 47 23 30 53 68 60 61 84 24 48 74 50 24 61 64\n",
      " 36 81 36 84 65 38 78 69 30 46 45 35 81 51 46 27 75 64 43 56 38 23 84 51 52\n",
      " 22 69 36 22 31 47 33 43 50 62 79 53 38 27 34 59 77 47 39 30 61 54 46 61 20]\n"
     ]
    }
   ],
   "source": [
    "age = np.random.randint(low=18, high=90, size=500)\n",
    "print(age)"
   ]
  },
  {
   "cell_type": "code",
   "execution_count": 12,
   "metadata": {
    "collapsed": false,
    "deletable": true,
    "editable": true
   },
   "outputs": [
    {
     "data": {
      "text/plain": [
       "ModeResult(mode=array([30]), count=array([16]))"
      ]
     },
     "execution_count": 12,
     "metadata": {},
     "output_type": "execute_result"
    }
   ],
   "source": [
    "from scipy import stats\n",
    "stats.mode(age)"
   ]
  }
 ],
 "metadata": {
  "anaconda-cloud": {},
  "kernelspec": {
   "display_name": "Python [default]",
   "language": "python",
   "name": "python3"
  },
  "language_info": {
   "codemirror_mode": {
    "name": "ipython",
    "version": 3
   },
   "file_extension": ".py",
   "mimetype": "text/x-python",
   "name": "python",
   "nbconvert_exporter": "python",
   "pygments_lexer": "ipython3",
   "version": "3.5.2"
  }
 },
 "nbformat": 4,
 "nbformat_minor": 0
}
